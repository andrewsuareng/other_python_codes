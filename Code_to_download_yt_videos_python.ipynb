{
 "cells": [
  {
   "cell_type": "code",
   "execution_count": 1,
   "id": "0c0c0e8a",
   "metadata": {},
   "outputs": [
    {
     "name": "stdout",
     "output_type": "stream",
     "text": [
      "Collecting youtube-dl\n",
      "  Downloading youtube_dl-2021.12.17-py2.py3-none-any.whl (1.9 MB)\n",
      "Installing collected packages: youtube-dl\n",
      "Successfully installed youtube-dl-2021.12.17\n",
      "Note: you may need to restart the kernel to use updated packages.\n"
     ]
    }
   ],
   "source": [
    "pip install youtube-dl"
   ]
  },
  {
   "cell_type": "code",
   "execution_count": 2,
   "id": "e669f65f",
   "metadata": {},
   "outputs": [],
   "source": [
    "import youtube_dl\n",
    "\n"
   ]
  },
  {
   "cell_type": "code",
   "execution_count": 3,
   "id": "bd90951b",
   "metadata": {},
   "outputs": [
    {
     "name": "stdout",
     "output_type": "stream",
     "text": [
      "[youtube] f5UedZV6EZM: Downloading webpage\n",
      "[download] Destination: The Relationship is in Danger If She Starts Doings THIS _ Jordan Peterson-f5UedZV6EZM.mp4\n",
      "[download] 100% of 11.53MiB in 02:44                  \n"
     ]
    }
   ],
   "source": [
    "link = \"https://youtu.be/f5UedZV6EZM\"\n",
    "ydl_opts = {}\n",
    "\n",
    "with youtube_dl.YoutubeDL(ydl_opts) as ydl:\n",
    "    ydl.download([link])"
   ]
  }
 ],
 "metadata": {
  "kernelspec": {
   "display_name": "Python 3 (ipykernel)",
   "language": "python",
   "name": "python3"
  },
  "language_info": {
   "codemirror_mode": {
    "name": "ipython",
    "version": 3
   },
   "file_extension": ".py",
   "mimetype": "text/x-python",
   "name": "python",
   "nbconvert_exporter": "python",
   "pygments_lexer": "ipython3",
   "version": "3.9.12"
  }
 },
 "nbformat": 4,
 "nbformat_minor": 5
}
